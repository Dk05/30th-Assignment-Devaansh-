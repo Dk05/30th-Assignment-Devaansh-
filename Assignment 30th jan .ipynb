{
 "cells": [
  {
   "cell_type": "code",
   "execution_count": null,
   "id": "b5d340b2",
   "metadata": {},
   "outputs": [],
   "source": [
    "#ANS 1 :\n",
    "a=[]\n",
    "n = int(input(\"ENTER PERCENTAGES : \\n\"))\n",
    "for i in range(0,4):\n",
    "    a.append(n)\n",
    "\n",
    "print(\"-----GRADES-----\")\n",
    "\n",
    "for n in a:\n",
    "    if(n >= 90):\n",
    "        print(\"GRADE A\")\n",
    "\n",
    "    elif(n >= 80 and n<= 90):\n",
    "        print(\"GRADE B\")\n",
    "    \n",
    "    elif(n >= 70 and n<= 80):\n",
    "        print(\"GRADE C\")\n",
    "    \n",
    "    elif(n >= 60 and n<=70):\n",
    "        print(\"GRADE D\")\n",
    "    else: \n",
    "        print(\"Failed\")\n",
    "    \n",
    "    "
   ]
  },
  {
   "cell_type": "code",
   "execution_count": null,
   "id": "0144fa07",
   "metadata": {},
   "outputs": [],
   "source": [
    "#ANS 2 :\n",
    "a=[]\n",
    "n = int(input(\"ENTER COST PRICE : \\n\"))\n",
    "for i in range(0,n):\n",
    "    a.append(n)\n",
    "\n",
    "print(\"-----TAX-----\")\n",
    "\n",
    "for n in a:\n",
    "    if(n >= 100000):\n",
    "        print(\"TAX = 15%\")\n",
    "\n",
    "    elif(n >= 50000 and n<= 100000):\n",
    "        print(\"TAX = 10%\")\n",
    "    \n",
    "    elif(n <= 50000):\n",
    "        print(\"TAX = 5%\")\n",
    "        \n",
    "    else: \n",
    "        print(\"INCORRECT COST PRICE\")\n"
   ]
  },
  {
   "cell_type": "code",
   "execution_count": null,
   "id": "80a88e32",
   "metadata": {},
   "outputs": [],
   "source": [
    "#ANS 3 :\n",
    "a=[]\n",
    "for i in range(0,3):\n",
    "    a.append(input(\"ENTER STATE: \\n\"))\n",
    "    \n",
    "print(\"-----MONUMENTS-----\")\n",
    "\n",
    "for n in a:\n",
    "    if(n == \"DELHI\"):\n",
    "        print(\"RED FORT\")\n",
    "\n",
    "    elif(n == \"AGRA\"):\n",
    "        print(\"TAJ MAHAL\")\n",
    "    \n",
    "    elif(n == \"JAIPUR\"):\n",
    "        print(\"JAL MAHAL\")\n",
    "        \n",
    "    else: \n",
    "        print(\"INCORRECT STATE\")"
   ]
  },
  {
   "cell_type": "code",
   "execution_count": null,
   "id": "60dd4c6e",
   "metadata": {},
   "outputs": [],
   "source": [
    "#ANS 4 : ----"
   ]
  },
  {
   "cell_type": "code",
   "execution_count": null,
   "id": "3813260a",
   "metadata": {},
   "outputs": [],
   "source": [
    "#ANS 5 :\n",
    "'''Python While Loop is used to execute a block of statements repeatedly until a given condition is satisfied. \n",
    "And when the condition becomes false, the line immediately after the loop in the program is executed.\n",
    "When a while loop is executed, expr is first evaluated in a Boolean context and if it is true, \n",
    "the loop body is executed. Then the expr is checked again, if it is still true then the body is executed \n",
    "again and this continues until the expression becomes false. '''\n",
    "\n",
    "#example\n",
    "\n",
    "for i in range(0,4):\n",
    "    print(i)\n",
    "    while (i == 3):\n",
    "        print(\"BINGO\")\n",
    "        break\n",
    "    \n",
    "\n",
    "        "
   ]
  },
  {
   "cell_type": "code",
   "execution_count": null,
   "id": "6c84002f",
   "metadata": {},
   "outputs": [],
   "source": [
    "#ANS 6 :\n",
    "n = int(input('ENTER NUMBERS : '))\n",
    " \n",
    "i = 1\n",
    "while i <= n :\n",
    "    j = 1\n",
    "    while j <= i:\n",
    "        print(\"*\", end = \" \")\n",
    "        j += 1\n",
    "    print()\n",
    "    i += 1\n",
    "    \n",
    "    \n",
    "    \n",
    "n = int(input('ENTER NUMBERS : '))\n",
    " \n",
    "i = 1\n",
    "while i <= n :\n",
    "    j = n\n",
    "    while j >= i:\n",
    "        print(\"*\", end = \" \")\n",
    "        j -= 1\n",
    "    print()\n",
    "    i += 1"
   ]
  },
  {
   "cell_type": "code",
   "execution_count": null,
   "id": "fce3f385",
   "metadata": {},
   "outputs": [],
   "source": [
    "#ANS 7 :\n",
    "i = 10\n",
    "while(i > 0):\n",
    "    print(i)\n",
    "    i = i - 1"
   ]
  }
 ],
 "metadata": {
  "kernelspec": {
   "display_name": "Python 3 (ipykernel)",
   "language": "python",
   "name": "python3"
  },
  "language_info": {
   "codemirror_mode": {
    "name": "ipython",
    "version": 3
   },
   "file_extension": ".py",
   "mimetype": "text/x-python",
   "name": "python",
   "nbconvert_exporter": "python",
   "pygments_lexer": "ipython3",
   "version": "3.11.3"
  }
 },
 "nbformat": 4,
 "nbformat_minor": 5
}
